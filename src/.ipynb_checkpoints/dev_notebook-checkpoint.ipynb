{
 "cells": [
  {
   "cell_type": "code",
   "execution_count": 1,
   "metadata": {},
   "outputs": [],
   "source": [
    "using DataFrames\n",
    "using CSV"
   ]
  },
  {
   "cell_type": "code",
   "execution_count": 67,
   "metadata": {},
   "outputs": [
    {
     "data": {
      "text/plain": [
       "load_tables (generic function with 1 method)"
      ]
     },
     "execution_count": 67,
     "metadata": {},
     "output_type": "execute_result"
    }
   ],
   "source": [
    "function load_tables()\n",
    "\n",
    "    cols = [\"source\", \"target\", \"flags\"]\n",
    "    \n",
    "    df_icd9 = CSV.File(\"2018_I9gem.txt\", delim = ' ',\n",
    "        header = false, type=String, ignorerepeated=true) |> DataFrame\n",
    "    rename!(df_icd9, cols)\n",
    "    \n",
    "    df_icd10 = CSV.File(\"2018_I10gem.txt\", delim = ' ', header = false, type=String, ignorerepeated=true) |> DataFrame\n",
    "    rename!(df_icd10, cols)\n",
    "    \n",
    "    df_icd9_desc = CSV.File(\"CMS32_DESC_LONG_DX.txt\", delim = '\\t', header = false, type=String) |> DataFrame\n",
    "    df_icd10_desc = CSV.File(\"icd10cm_codes_2018.txt\", delim = '\\t', header = false, type=String) |> DataFrame\n",
    "    \n",
    "    df_icd9_pcs = CSV.File(\"gem_i9pcs.txt\", delim = ' ', header = false, type=String, ignorerepeated=true) |> DataFrame\n",
    "    rename!(df_icd9_pcs, cols)\n",
    "    \n",
    "    df_icd10_pcs = CSV.File(\"gem_pcsi9.txt\", delim = ' ', header = false, type=String, ignorerepeated=true) |> DataFrame\n",
    "    rename!(df_icd10_pcs, cols)\n",
    "    \n",
    "    df_icd10_pcs_desc = CSV.File(\"icd10pcs_order_2014.txt\", delim = '\\t', header = false, type=String) |> DataFrame \n",
    "\n",
    "    return df_icd9, df_icd10, df_icd9_desc, df_icd10_desc, df_icd9_pcs, df_icd10_pcs, df_icd10_pcs_desc    \n",
    "end"
   ]
  },
  {
   "cell_type": "code",
   "execution_count": 20,
   "metadata": {},
   "outputs": [
    {
     "data": {
      "text/plain": [
       "make_flag_cols (generic function with 1 method)"
      ]
     },
     "execution_count": 20,
     "metadata": {},
     "output_type": "execute_result"
    }
   ],
   "source": [
    "function make_flag_cols(df_in)\n",
    "    \n",
    "    df = copy(df_in)\n",
    "    \n",
    "    df[:flags] = map(x -> lpad(split(string(x), \" \")[1], 5, \"0\"), df[:flags])\n",
    "    \n",
    "    flag_types = [ \"approximate\", \"no map\", \"combination\", \"scenario\", \"choice list\"]\n",
    "\n",
    "    for (index, flag) in enumerate(flag_types)\n",
    "        df[Symbol(flag_types[index])] = map(x -> string(x[index]), df[:flags])\n",
    "    end\n",
    "\n",
    "    select!(df, Not(:flags))\n",
    "    \n",
    "    return df\n",
    "end"
   ]
  },
  {
   "cell_type": "code",
   "execution_count": 46,
   "metadata": {},
   "outputs": [
    {
     "data": {
      "text/plain": [
       "make_desc_cols (generic function with 1 method)"
      ]
     },
     "execution_count": 46,
     "metadata": {},
     "output_type": "execute_result"
    }
   ],
   "source": [
    "function make_desc_cols(df_in, code::String)\n",
    "    \n",
    "    df = copy(df_in)\n",
    "    \n",
    "    df[:code] = map(x -> split(string(x), \" \")[1], df[:Column1])\n",
    "    df[:descriptions] = map(x -> lstrip(join(split(string(x), \" \")[2:end], \" \")), df[:Column1])\n",
    "    \n",
    "    select!(df, Not(:Column1))\n",
    "    \n",
    "    return df\n",
    "end"
   ]
  },
  {
   "cell_type": "code",
   "execution_count": 22,
   "metadata": {},
   "outputs": [
    {
     "data": {
      "text/plain": [
       "join_icd_descriptions (generic function with 1 method)"
      ]
     },
     "execution_count": 22,
     "metadata": {},
     "output_type": "execute_result"
    }
   ],
   "source": [
    "function join_icd_descriptions(df_gems, df_desc)\n",
    "\n",
    "    df = join(df_gems, df_desc,\n",
    "        on = :target => :code,\n",
    "        kind = :inner)\n",
    "    return df\n",
    "end"
   ]
  },
  {
   "cell_type": "code",
   "execution_count": 47,
   "metadata": {},
   "outputs": [],
   "source": [
    "cd(\"../data/\")\n",
    "\n",
    "gems9, gems10, desc9, desc10, icd9_pcs, icd10_pcs, icd10_pcs_desc = load_tables();"
   ]
  },
  {
   "cell_type": "code",
   "execution_count": 36,
   "metadata": {},
   "outputs": [
    {
     "data": {
      "text/plain": [
       "1-element Array{String,1}:\n",
       " \"Column1\""
      ]
     },
     "execution_count": 36,
     "metadata": {},
     "output_type": "execute_result"
    }
   ],
   "source": [
    "names(desc10)"
   ]
  },
  {
   "cell_type": "code",
   "execution_count": 37,
   "metadata": {
    "collapsed": true
   },
   "outputs": [
    {
     "data": {
      "text/html": [
       "<table class=\"data-frame\"><thead><tr><th></th><th>Column1</th></tr><tr><th></th><th>String</th></tr></thead><tbody><p>71,704 rows × 1 columns</p><tr><th>1</th><td>A000    Cholera due to Vibrio cholerae 01, biovar cholerae</td></tr><tr><th>2</th><td>A001    Cholera due to Vibrio cholerae 01, biovar eltor</td></tr><tr><th>3</th><td>A009    Cholera, unspecified</td></tr><tr><th>4</th><td>A0100   Typhoid fever, unspecified</td></tr><tr><th>5</th><td>A0101   Typhoid meningitis</td></tr><tr><th>6</th><td>A0102   Typhoid fever with heart involvement</td></tr><tr><th>7</th><td>A0103   Typhoid pneumonia</td></tr><tr><th>8</th><td>A0104   Typhoid arthritis</td></tr><tr><th>9</th><td>A0105   Typhoid osteomyelitis</td></tr><tr><th>10</th><td>A0109   Typhoid fever with other complications</td></tr><tr><th>11</th><td>A011    Paratyphoid fever A</td></tr><tr><th>12</th><td>A012    Paratyphoid fever B</td></tr><tr><th>13</th><td>A013    Paratyphoid fever C</td></tr><tr><th>14</th><td>A014    Paratyphoid fever, unspecified</td></tr><tr><th>15</th><td>A020    Salmonella enteritis</td></tr><tr><th>16</th><td>A021    Salmonella sepsis</td></tr><tr><th>17</th><td>A0220   Localized salmonella infection, unspecified</td></tr><tr><th>18</th><td>A0221   Salmonella meningitis</td></tr><tr><th>19</th><td>A0222   Salmonella pneumonia</td></tr><tr><th>20</th><td>A0223   Salmonella arthritis</td></tr><tr><th>21</th><td>A0224   Salmonella osteomyelitis</td></tr><tr><th>22</th><td>A0225   Salmonella pyelonephritis</td></tr><tr><th>23</th><td>A0229   Salmonella with other localized infection</td></tr><tr><th>24</th><td>A028    Other specified salmonella infections</td></tr><tr><th>25</th><td>A029    Salmonella infection, unspecified</td></tr><tr><th>26</th><td>A030    Shigellosis due to Shigella dysenteriae</td></tr><tr><th>27</th><td>A031    Shigellosis due to Shigella flexneri</td></tr><tr><th>28</th><td>A032    Shigellosis due to Shigella boydii</td></tr><tr><th>29</th><td>A033    Shigellosis due to Shigella sonnei</td></tr><tr><th>30</th><td>A038    Other shigellosis</td></tr><tr><th>&vellip;</th><td>&vellip;</td></tr></tbody></table>"
      ],
      "text/latex": [
       "\\begin{tabular}{r|c}\n",
       "\t& Column1\\\\\n",
       "\t\\hline\n",
       "\t& String\\\\\n",
       "\t\\hline\n",
       "\t1 & A000    Cholera due to Vibrio cholerae 01, biovar cholerae \\\\\n",
       "\t2 & A001    Cholera due to Vibrio cholerae 01, biovar eltor \\\\\n",
       "\t3 & A009    Cholera, unspecified \\\\\n",
       "\t4 & A0100   Typhoid fever, unspecified \\\\\n",
       "\t5 & A0101   Typhoid meningitis \\\\\n",
       "\t6 & A0102   Typhoid fever with heart involvement \\\\\n",
       "\t7 & A0103   Typhoid pneumonia \\\\\n",
       "\t8 & A0104   Typhoid arthritis \\\\\n",
       "\t9 & A0105   Typhoid osteomyelitis \\\\\n",
       "\t10 & A0109   Typhoid fever with other complications \\\\\n",
       "\t11 & A011    Paratyphoid fever A \\\\\n",
       "\t12 & A012    Paratyphoid fever B \\\\\n",
       "\t13 & A013    Paratyphoid fever C \\\\\n",
       "\t14 & A014    Paratyphoid fever, unspecified \\\\\n",
       "\t15 & A020    Salmonella enteritis \\\\\n",
       "\t16 & A021    Salmonella sepsis \\\\\n",
       "\t17 & A0220   Localized salmonella infection, unspecified \\\\\n",
       "\t18 & A0221   Salmonella meningitis \\\\\n",
       "\t19 & A0222   Salmonella pneumonia \\\\\n",
       "\t20 & A0223   Salmonella arthritis \\\\\n",
       "\t21 & A0224   Salmonella osteomyelitis \\\\\n",
       "\t22 & A0225   Salmonella pyelonephritis \\\\\n",
       "\t23 & A0229   Salmonella with other localized infection \\\\\n",
       "\t24 & A028    Other specified salmonella infections \\\\\n",
       "\t25 & A029    Salmonella infection, unspecified \\\\\n",
       "\t26 & A030    Shigellosis due to Shigella dysenteriae \\\\\n",
       "\t27 & A031    Shigellosis due to Shigella flexneri \\\\\n",
       "\t28 & A032    Shigellosis due to Shigella boydii \\\\\n",
       "\t29 & A033    Shigellosis due to Shigella sonnei \\\\\n",
       "\t30 & A038    Other shigellosis \\\\\n",
       "\t$\\dots$ & $\\dots$ \\\\\n",
       "\\end{tabular}\n"
      ],
      "text/plain": [
       "71704×1 DataFrame. Omitted printing of 1 columns\n",
       "│ Row   │ │       │ ├───────┼\n",
       "│ 1     │ │ 2     │ │ 3     │ │ 4     │ │ 5     │ │ 6     │ │ 7     │ │ 8     │ │ 9     │ │ 10    │ \n",
       "⋮\n",
       "│ 71694 │ │ 71695 │ │ 71696 │ │ 71697 │ │ 71698 │ │ 71699 │ │ 71700 │ │ 71701 │ │ 71702 │ │ 71703 │ │ 71704 │ "
      ]
     },
     "execution_count": 37,
     "metadata": {},
     "output_type": "execute_result"
    }
   ],
   "source": [
    "df = copy(desc10)"
   ]
  },
  {
   "cell_type": "code",
   "execution_count": 38,
   "metadata": {},
   "outputs": [
    {
     "data": {
      "text/plain": [
       "71704-element Array{SubString{String},1}:\n",
       " \"A000\"\n",
       " \"A001\"\n",
       " \"A009\"\n",
       " \"A0100\"\n",
       " \"A0101\"\n",
       " \"A0102\"\n",
       " \"A0103\"\n",
       " \"A0104\"\n",
       " \"A0105\"\n",
       " \"A0109\"\n",
       " \"A011\"\n",
       " \"A012\"\n",
       " \"A013\"\n",
       " ⋮\n",
       " \"Z9886\"\n",
       " \"Z98870\"\n",
       " \"Z98871\"\n",
       " \"Z98890\"\n",
       " \"Z98891\"\n",
       " \"Z990\"\n",
       " \"Z9911\"\n",
       " \"Z9912\"\n",
       " \"Z992\"\n",
       " \"Z993\"\n",
       " \"Z9981\"\n",
       " \"Z9989\""
      ]
     },
     "execution_count": 38,
     "metadata": {},
     "output_type": "execute_result"
    }
   ],
   "source": [
    "df[:code] = map(x -> split(string(x), \" \")[1], df[:Column1])"
   ]
  },
  {
   "cell_type": "code",
   "execution_count": 39,
   "metadata": {},
   "outputs": [
    {
     "data": {
      "text/plain": [
       "71704-element Array{SubString{String},1}:\n",
       " \"Cholera due to Vibrio cholerae 01, biovar cholerae\"\n",
       " \"Cholera due to Vibrio cholerae 01, biovar eltor\"\n",
       " \"Cholera, unspecified\"\n",
       " \"Typhoid fever, unspecified\"\n",
       " \"Typhoid meningitis\"\n",
       " \"Typhoid fever with heart involvement\"\n",
       " \"Typhoid pneumonia\"\n",
       " \"Typhoid arthritis\"\n",
       " \"Typhoid osteomyelitis\"\n",
       " \"Typhoid fever with other complications\"\n",
       " \"Paratyphoid fever A\"\n",
       " \"Paratyphoid fever B\"\n",
       " \"Paratyphoid fever C\"\n",
       " ⋮\n",
       " \"Personal history of breast implant removal\"\n",
       " \"Personal history of in utero procedure during pregnancy\"\n",
       " \"Personal history of in utero procedure while a fetus\"\n",
       " \"Other specified postprocedural states\"\n",
       " \"History of uterine scar from previous surgery\"\n",
       " \"Dependence on aspirator\"\n",
       " \"Dependence on respirator [ventilator] status\"\n",
       " \"Encounter for respirator [ventilator] dependence during power failure\"\n",
       " \"Dependence on renal dialysis\"\n",
       " \"Dependence on wheelchair\"\n",
       " \"Dependence on supplemental oxygen\"\n",
       " \"Dependence on other enabling machines and devices\""
      ]
     },
     "execution_count": 39,
     "metadata": {},
     "output_type": "execute_result"
    }
   ],
   "source": [
    "df[:descriptions] = map(x -> lstrip(join(split(string(x), \" \")[2:end], \" \")), df[:Column1])"
   ]
  },
  {
   "cell_type": "code",
   "execution_count": null,
   "metadata": {},
   "outputs": [],
   "source": []
  },
  {
   "cell_type": "code",
   "execution_count": 35,
   "metadata": {},
   "outputs": [
    {
     "data": {
      "text/html": [
       "<table class=\"data-frame\"><thead><tr><th></th><th>Column1</th></tr><tr><th></th><th>String</th></tr></thead><tbody><p>5 rows × 1 columns</p><tr><th>1</th><td>A000    Cholera due to Vibrio cholerae 01, biovar cholerae</td></tr><tr><th>2</th><td>A001    Cholera due to Vibrio cholerae 01, biovar eltor</td></tr><tr><th>3</th><td>A009    Cholera, unspecified</td></tr><tr><th>4</th><td>A0100   Typhoid fever, unspecified</td></tr><tr><th>5</th><td>A0101   Typhoid meningitis</td></tr></tbody></table>"
      ],
      "text/latex": [
       "\\begin{tabular}{r|c}\n",
       "\t& Column1\\\\\n",
       "\t\\hline\n",
       "\t& String\\\\\n",
       "\t\\hline\n",
       "\t1 & A000    Cholera due to Vibrio cholerae 01, biovar cholerae \\\\\n",
       "\t2 & A001    Cholera due to Vibrio cholerae 01, biovar eltor \\\\\n",
       "\t3 & A009    Cholera, unspecified \\\\\n",
       "\t4 & A0100   Typhoid fever, unspecified \\\\\n",
       "\t5 & A0101   Typhoid meningitis \\\\\n",
       "\\end{tabular}\n"
      ],
      "text/plain": [
       "5×1 DataFrame\n",
       "│ Row │ Column1                                                    │\n",
       "│     │ \u001b[90mString\u001b[39m                                                     │\n",
       "├─────┼────────────────────────────────────────────────────────────┤\n",
       "│ 1   │ A000    Cholera due to Vibrio cholerae 01, biovar cholerae │\n",
       "│ 2   │ A001    Cholera due to Vibrio cholerae 01, biovar eltor    │\n",
       "│ 3   │ A009    Cholera, unspecified                               │\n",
       "│ 4   │ A0100   Typhoid fever, unspecified                         │\n",
       "│ 5   │ A0101   Typhoid meningitis                                 │"
      ]
     },
     "execution_count": 35,
     "metadata": {},
     "output_type": "execute_result"
    }
   ],
   "source": [
    "first(desc10, 5)"
   ]
  },
  {
   "cell_type": "code",
   "execution_count": 48,
   "metadata": {},
   "outputs": [],
   "source": [
    "gems9 = make_flag_cols(gems9);\n",
    "gems10 = make_flag_cols(gems10);"
   ]
  },
  {
   "cell_type": "code",
   "execution_count": 43,
   "metadata": {},
   "outputs": [
    {
     "data": {
      "text/html": [
       "<table class=\"data-frame\"><thead><tr><th></th><th>Column1</th></tr><tr><th></th><th>String</th></tr></thead><tbody><p>14,567 rows × 1 columns</p><tr><th>1</th><td>0010  Cholera due to vibrio cholerae</td></tr><tr><th>2</th><td>0011  Cholera due to vibrio cholerae el tor</td></tr><tr><th>3</th><td>0019  Cholera, unspecified</td></tr><tr><th>4</th><td>0020  Typhoid fever</td></tr><tr><th>5</th><td>0021  Paratyphoid fever A</td></tr><tr><th>6</th><td>0022  Paratyphoid fever B</td></tr><tr><th>7</th><td>0023  Paratyphoid fever C</td></tr><tr><th>8</th><td>0029  Paratyphoid fever, unspecified</td></tr><tr><th>9</th><td>0030  Salmonella gastroenteritis</td></tr><tr><th>10</th><td>0031  Salmonella septicemia</td></tr><tr><th>11</th><td>00320 Localized salmonella infection, unspecified</td></tr><tr><th>12</th><td>00321 Salmonella meningitis</td></tr><tr><th>13</th><td>00322 Salmonella pneumonia</td></tr><tr><th>14</th><td>00323 Salmonella arthritis</td></tr><tr><th>15</th><td>00324 Salmonella osteomyelitis</td></tr><tr><th>16</th><td>00329 Other localized salmonella infections</td></tr><tr><th>17</th><td>0038  Other specified salmonella infections</td></tr><tr><th>18</th><td>0039  Salmonella infection, unspecified</td></tr><tr><th>19</th><td>0040  Shigella dysenteriae</td></tr><tr><th>20</th><td>0041  Shigella flexneri</td></tr><tr><th>21</th><td>0042  Shigella boydii</td></tr><tr><th>22</th><td>0043  Shigella sonnei</td></tr><tr><th>23</th><td>0048  Other specified shigella infections</td></tr><tr><th>24</th><td>0049  Shigellosis, unspecified</td></tr><tr><th>25</th><td>0050  Staphylococcal food poisoning</td></tr><tr><th>26</th><td>0051  Botulism food poisoning</td></tr><tr><th>27</th><td>0052  Food poisoning due to Clostridium perfringens (C. welchii)</td></tr><tr><th>28</th><td>0053  Food poisoning due to other Clostridia</td></tr><tr><th>29</th><td>0054  Food poisoning due to Vibrio parahaemolyticus</td></tr><tr><th>30</th><td>00581 Food poisoning due to Vibrio vulnificus</td></tr><tr><th>&vellip;</th><td>&vellip;</td></tr></tbody></table>"
      ],
      "text/latex": [
       "\\begin{tabular}{r|c}\n",
       "\t& Column1\\\\\n",
       "\t\\hline\n",
       "\t& String\\\\\n",
       "\t\\hline\n",
       "\t1 & 0010  Cholera due to vibrio cholerae \\\\\n",
       "\t2 & 0011  Cholera due to vibrio cholerae el tor \\\\\n",
       "\t3 & 0019  Cholera, unspecified \\\\\n",
       "\t4 & 0020  Typhoid fever \\\\\n",
       "\t5 & 0021  Paratyphoid fever A \\\\\n",
       "\t6 & 0022  Paratyphoid fever B \\\\\n",
       "\t7 & 0023  Paratyphoid fever C \\\\\n",
       "\t8 & 0029  Paratyphoid fever, unspecified \\\\\n",
       "\t9 & 0030  Salmonella gastroenteritis \\\\\n",
       "\t10 & 0031  Salmonella septicemia \\\\\n",
       "\t11 & 00320 Localized salmonella infection, unspecified \\\\\n",
       "\t12 & 00321 Salmonella meningitis \\\\\n",
       "\t13 & 00322 Salmonella pneumonia \\\\\n",
       "\t14 & 00323 Salmonella arthritis \\\\\n",
       "\t15 & 00324 Salmonella osteomyelitis \\\\\n",
       "\t16 & 00329 Other localized salmonella infections \\\\\n",
       "\t17 & 0038  Other specified salmonella infections \\\\\n",
       "\t18 & 0039  Salmonella infection, unspecified \\\\\n",
       "\t19 & 0040  Shigella dysenteriae \\\\\n",
       "\t20 & 0041  Shigella flexneri \\\\\n",
       "\t21 & 0042  Shigella boydii \\\\\n",
       "\t22 & 0043  Shigella sonnei \\\\\n",
       "\t23 & 0048  Other specified shigella infections \\\\\n",
       "\t24 & 0049  Shigellosis, unspecified \\\\\n",
       "\t25 & 0050  Staphylococcal food poisoning \\\\\n",
       "\t26 & 0051  Botulism food poisoning \\\\\n",
       "\t27 & 0052  Food poisoning due to Clostridium perfringens (C. welchii) \\\\\n",
       "\t28 & 0053  Food poisoning due to other Clostridia \\\\\n",
       "\t29 & 0054  Food poisoning due to Vibrio parahaemolyticus \\\\\n",
       "\t30 & 00581 Food poisoning due to Vibrio vulnificus \\\\\n",
       "\t$\\dots$ & $\\dots$ \\\\\n",
       "\\end{tabular}\n"
      ],
      "text/plain": [
       "14567×1 DataFrame. Omitted printing of 1 columns\n",
       "│ Row   │ │       │ ├───────┼\n",
       "│ 1     │ │ 2     │ │ 3     │ │ 4     │ │ 5     │ │ 6     │ │ 7     │ │ 8     │ │ 9     │ │ 10    │ \n",
       "⋮\n",
       "│ 14557 │ │ 14558 │ │ 14559 │ │ 14560 │ │ 14561 │ │ 14562 │ │ 14563 │ │ 14564 │ │ 14565 │ │ 14566 │ │ 14567 │ "
      ]
     },
     "execution_count": 43,
     "metadata": {},
     "output_type": "execute_result"
    }
   ],
   "source": [
    "desc9"
   ]
  },
  {
   "cell_type": "code",
   "execution_count": 49,
   "metadata": {},
   "outputs": [],
   "source": [
    "desc9 =  make_desc_cols(desc9, \"icd9\");\n",
    "desc10 =  make_desc_cols(desc10, \"icd10\");"
   ]
  },
  {
   "cell_type": "code",
   "execution_count": 45,
   "metadata": {},
   "outputs": [
    {
     "data": {
      "text/html": [
       "<table class=\"data-frame\"><thead><tr><th></th><th>Column1</th><th>code</th><th>descriptions</th></tr><tr><th></th><th>String</th><th>SubStri…</th><th>SubStri…</th></tr></thead><tbody><p>71,704 rows × 3 columns</p><tr><th>1</th><td>A000    Cholera due to Vibrio cholerae 01, biovar cholerae</td><td>A000</td><td>Cholera due to Vibrio cholerae 01, biovar cholerae</td></tr><tr><th>2</th><td>A001    Cholera due to Vibrio cholerae 01, biovar eltor</td><td>A001</td><td>Cholera due to Vibrio cholerae 01, biovar eltor</td></tr><tr><th>3</th><td>A009    Cholera, unspecified</td><td>A009</td><td>Cholera, unspecified</td></tr><tr><th>4</th><td>A0100   Typhoid fever, unspecified</td><td>A0100</td><td>Typhoid fever, unspecified</td></tr><tr><th>5</th><td>A0101   Typhoid meningitis</td><td>A0101</td><td>Typhoid meningitis</td></tr><tr><th>6</th><td>A0102   Typhoid fever with heart involvement</td><td>A0102</td><td>Typhoid fever with heart involvement</td></tr><tr><th>7</th><td>A0103   Typhoid pneumonia</td><td>A0103</td><td>Typhoid pneumonia</td></tr><tr><th>8</th><td>A0104   Typhoid arthritis</td><td>A0104</td><td>Typhoid arthritis</td></tr><tr><th>9</th><td>A0105   Typhoid osteomyelitis</td><td>A0105</td><td>Typhoid osteomyelitis</td></tr><tr><th>10</th><td>A0109   Typhoid fever with other complications</td><td>A0109</td><td>Typhoid fever with other complications</td></tr><tr><th>11</th><td>A011    Paratyphoid fever A</td><td>A011</td><td>Paratyphoid fever A</td></tr><tr><th>12</th><td>A012    Paratyphoid fever B</td><td>A012</td><td>Paratyphoid fever B</td></tr><tr><th>13</th><td>A013    Paratyphoid fever C</td><td>A013</td><td>Paratyphoid fever C</td></tr><tr><th>14</th><td>A014    Paratyphoid fever, unspecified</td><td>A014</td><td>Paratyphoid fever, unspecified</td></tr><tr><th>15</th><td>A020    Salmonella enteritis</td><td>A020</td><td>Salmonella enteritis</td></tr><tr><th>16</th><td>A021    Salmonella sepsis</td><td>A021</td><td>Salmonella sepsis</td></tr><tr><th>17</th><td>A0220   Localized salmonella infection, unspecified</td><td>A0220</td><td>Localized salmonella infection, unspecified</td></tr><tr><th>18</th><td>A0221   Salmonella meningitis</td><td>A0221</td><td>Salmonella meningitis</td></tr><tr><th>19</th><td>A0222   Salmonella pneumonia</td><td>A0222</td><td>Salmonella pneumonia</td></tr><tr><th>20</th><td>A0223   Salmonella arthritis</td><td>A0223</td><td>Salmonella arthritis</td></tr><tr><th>21</th><td>A0224   Salmonella osteomyelitis</td><td>A0224</td><td>Salmonella osteomyelitis</td></tr><tr><th>22</th><td>A0225   Salmonella pyelonephritis</td><td>A0225</td><td>Salmonella pyelonephritis</td></tr><tr><th>23</th><td>A0229   Salmonella with other localized infection</td><td>A0229</td><td>Salmonella with other localized infection</td></tr><tr><th>24</th><td>A028    Other specified salmonella infections</td><td>A028</td><td>Other specified salmonella infections</td></tr><tr><th>25</th><td>A029    Salmonella infection, unspecified</td><td>A029</td><td>Salmonella infection, unspecified</td></tr><tr><th>26</th><td>A030    Shigellosis due to Shigella dysenteriae</td><td>A030</td><td>Shigellosis due to Shigella dysenteriae</td></tr><tr><th>27</th><td>A031    Shigellosis due to Shigella flexneri</td><td>A031</td><td>Shigellosis due to Shigella flexneri</td></tr><tr><th>28</th><td>A032    Shigellosis due to Shigella boydii</td><td>A032</td><td>Shigellosis due to Shigella boydii</td></tr><tr><th>29</th><td>A033    Shigellosis due to Shigella sonnei</td><td>A033</td><td>Shigellosis due to Shigella sonnei</td></tr><tr><th>30</th><td>A038    Other shigellosis</td><td>A038</td><td>Other shigellosis</td></tr><tr><th>&vellip;</th><td>&vellip;</td><td>&vellip;</td><td>&vellip;</td></tr></tbody></table>"
      ],
      "text/latex": [
       "\\begin{tabular}{r|ccc}\n",
       "\t& Column1 & code & descriptions\\\\\n",
       "\t\\hline\n",
       "\t& String & SubStri… & SubStri…\\\\\n",
       "\t\\hline\n",
       "\t1 & A000    Cholera due to Vibrio cholerae 01, biovar cholerae & A000 & Cholera due to Vibrio cholerae 01, biovar cholerae \\\\\n",
       "\t2 & A001    Cholera due to Vibrio cholerae 01, biovar eltor & A001 & Cholera due to Vibrio cholerae 01, biovar eltor \\\\\n",
       "\t3 & A009    Cholera, unspecified & A009 & Cholera, unspecified \\\\\n",
       "\t4 & A0100   Typhoid fever, unspecified & A0100 & Typhoid fever, unspecified \\\\\n",
       "\t5 & A0101   Typhoid meningitis & A0101 & Typhoid meningitis \\\\\n",
       "\t6 & A0102   Typhoid fever with heart involvement & A0102 & Typhoid fever with heart involvement \\\\\n",
       "\t7 & A0103   Typhoid pneumonia & A0103 & Typhoid pneumonia \\\\\n",
       "\t8 & A0104   Typhoid arthritis & A0104 & Typhoid arthritis \\\\\n",
       "\t9 & A0105   Typhoid osteomyelitis & A0105 & Typhoid osteomyelitis \\\\\n",
       "\t10 & A0109   Typhoid fever with other complications & A0109 & Typhoid fever with other complications \\\\\n",
       "\t11 & A011    Paratyphoid fever A & A011 & Paratyphoid fever A \\\\\n",
       "\t12 & A012    Paratyphoid fever B & A012 & Paratyphoid fever B \\\\\n",
       "\t13 & A013    Paratyphoid fever C & A013 & Paratyphoid fever C \\\\\n",
       "\t14 & A014    Paratyphoid fever, unspecified & A014 & Paratyphoid fever, unspecified \\\\\n",
       "\t15 & A020    Salmonella enteritis & A020 & Salmonella enteritis \\\\\n",
       "\t16 & A021    Salmonella sepsis & A021 & Salmonella sepsis \\\\\n",
       "\t17 & A0220   Localized salmonella infection, unspecified & A0220 & Localized salmonella infection, unspecified \\\\\n",
       "\t18 & A0221   Salmonella meningitis & A0221 & Salmonella meningitis \\\\\n",
       "\t19 & A0222   Salmonella pneumonia & A0222 & Salmonella pneumonia \\\\\n",
       "\t20 & A0223   Salmonella arthritis & A0223 & Salmonella arthritis \\\\\n",
       "\t21 & A0224   Salmonella osteomyelitis & A0224 & Salmonella osteomyelitis \\\\\n",
       "\t22 & A0225   Salmonella pyelonephritis & A0225 & Salmonella pyelonephritis \\\\\n",
       "\t23 & A0229   Salmonella with other localized infection & A0229 & Salmonella with other localized infection \\\\\n",
       "\t24 & A028    Other specified salmonella infections & A028 & Other specified salmonella infections \\\\\n",
       "\t25 & A029    Salmonella infection, unspecified & A029 & Salmonella infection, unspecified \\\\\n",
       "\t26 & A030    Shigellosis due to Shigella dysenteriae & A030 & Shigellosis due to Shigella dysenteriae \\\\\n",
       "\t27 & A031    Shigellosis due to Shigella flexneri & A031 & Shigellosis due to Shigella flexneri \\\\\n",
       "\t28 & A032    Shigellosis due to Shigella boydii & A032 & Shigellosis due to Shigella boydii \\\\\n",
       "\t29 & A033    Shigellosis due to Shigella sonnei & A033 & Shigellosis due to Shigella sonnei \\\\\n",
       "\t30 & A038    Other shigellosis & A038 & Other shigellosis \\\\\n",
       "\t$\\dots$ & $\\dots$ & $\\dots$ & $\\dots$ \\\\\n",
       "\\end{tabular}\n"
      ],
      "text/plain": [
       "71704×3 DataFrame. Omitted printing of 3 columns\n",
       "│ Row   │ │       │ ├───────┼\n",
       "│ 1     │ │ 2     │ │ 3     │ │ 4     │ │ 5     │ │ 6     │ │ 7     │ │ 8     │ │ 9     │ │ 10    │ \n",
       "⋮\n",
       "│ 71694 │ │ 71695 │ │ 71696 │ │ 71697 │ │ 71698 │ │ 71699 │ │ 71700 │ │ 71701 │ │ 71702 │ │ 71703 │ │ 71704 │ "
      ]
     },
     "execution_count": 45,
     "metadata": {},
     "output_type": "execute_result"
    }
   ],
   "source": [
    "desc10"
   ]
  },
  {
   "cell_type": "code",
   "execution_count": 50,
   "metadata": {},
   "outputs": [],
   "source": [
    "\n",
    "\n",
    "\n",
    "\n",
    "\n",
    "\n",
    "gems9_10 = join_icd_descriptions(gems9,desc10);\n",
    "gems10_9 = join_icd_descriptions(gems10,desc9);\n",
    "\n",
    "#desc10pcs = make_desc_cols(icd10_pcs_desc, \"icd10_pcs\");\n",
    "\n",
    "# CSV.write(\"processed/gems9_10.csv\", gems9_10)\n",
    "# CSV.write(\"processed/gems10_9.csv\", gems10_9)\n",
    "#CSV.write(\"processed/gems_pcs_desc.csv\", desc10pcs)\n",
    "#CSV.write(\"processed/gems_icd10_pcs.csv\", icd10_pcs)\n",
    "\n",
    "\n"
   ]
  },
  {
   "cell_type": "code",
   "execution_count": 51,
   "metadata": {},
   "outputs": [
    {
     "data": {
      "text/html": [
       "<table class=\"data-frame\"><thead><tr><th></th><th>source</th><th>target</th><th>approximate</th><th>no map</th><th>combination</th><th>scenario</th><th>choice list</th><th>descriptions</th></tr><tr><th></th><th>String</th><th>String</th><th>String</th><th>String</th><th>String</th><th>String</th><th>String</th><th>SubStri…</th></tr></thead><tbody><p>24,438 rows × 8 columns</p><tr><th>1</th><td>0010</td><td>A000</td><td>0</td><td>0</td><td>0</td><td>0</td><td>0</td><td>Cholera due to Vibrio cholerae 01, biovar cholerae</td></tr><tr><th>2</th><td>0011</td><td>A001</td><td>0</td><td>0</td><td>0</td><td>0</td><td>0</td><td>Cholera due to Vibrio cholerae 01, biovar eltor</td></tr><tr><th>3</th><td>0019</td><td>A009</td><td>0</td><td>0</td><td>0</td><td>0</td><td>0</td><td>Cholera, unspecified</td></tr><tr><th>4</th><td>0020</td><td>A0100</td><td>1</td><td>0</td><td>0</td><td>0</td><td>0</td><td>Typhoid fever, unspecified</td></tr><tr><th>5</th><td>0021</td><td>A011</td><td>0</td><td>0</td><td>0</td><td>0</td><td>0</td><td>Paratyphoid fever A</td></tr><tr><th>6</th><td>0022</td><td>A012</td><td>0</td><td>0</td><td>0</td><td>0</td><td>0</td><td>Paratyphoid fever B</td></tr><tr><th>7</th><td>0023</td><td>A013</td><td>0</td><td>0</td><td>0</td><td>0</td><td>0</td><td>Paratyphoid fever C</td></tr><tr><th>8</th><td>0029</td><td>A014</td><td>0</td><td>0</td><td>0</td><td>0</td><td>0</td><td>Paratyphoid fever, unspecified</td></tr><tr><th>9</th><td>0030</td><td>A020</td><td>0</td><td>0</td><td>0</td><td>0</td><td>0</td><td>Salmonella enteritis</td></tr><tr><th>10</th><td>0031</td><td>A021</td><td>1</td><td>0</td><td>0</td><td>0</td><td>0</td><td>Salmonella sepsis</td></tr><tr><th>11</th><td>00320</td><td>A0220</td><td>0</td><td>0</td><td>0</td><td>0</td><td>0</td><td>Localized salmonella infection, unspecified</td></tr><tr><th>12</th><td>00321</td><td>A0221</td><td>0</td><td>0</td><td>0</td><td>0</td><td>0</td><td>Salmonella meningitis</td></tr><tr><th>13</th><td>00322</td><td>A0222</td><td>0</td><td>0</td><td>0</td><td>0</td><td>0</td><td>Salmonella pneumonia</td></tr><tr><th>14</th><td>00323</td><td>A0223</td><td>0</td><td>0</td><td>0</td><td>0</td><td>0</td><td>Salmonella arthritis</td></tr><tr><th>15</th><td>00324</td><td>A0224</td><td>0</td><td>0</td><td>0</td><td>0</td><td>0</td><td>Salmonella osteomyelitis</td></tr><tr><th>16</th><td>00329</td><td>A0229</td><td>1</td><td>0</td><td>0</td><td>0</td><td>0</td><td>Salmonella with other localized infection</td></tr><tr><th>17</th><td>0038</td><td>A028</td><td>0</td><td>0</td><td>0</td><td>0</td><td>0</td><td>Other specified salmonella infections</td></tr><tr><th>18</th><td>0039</td><td>A029</td><td>0</td><td>0</td><td>0</td><td>0</td><td>0</td><td>Salmonella infection, unspecified</td></tr><tr><th>19</th><td>0040</td><td>A030</td><td>0</td><td>0</td><td>0</td><td>0</td><td>0</td><td>Shigellosis due to Shigella dysenteriae</td></tr><tr><th>20</th><td>0041</td><td>A031</td><td>0</td><td>0</td><td>0</td><td>0</td><td>0</td><td>Shigellosis due to Shigella flexneri</td></tr><tr><th>21</th><td>0042</td><td>A032</td><td>0</td><td>0</td><td>0</td><td>0</td><td>0</td><td>Shigellosis due to Shigella boydii</td></tr><tr><th>22</th><td>0043</td><td>A033</td><td>0</td><td>0</td><td>0</td><td>0</td><td>0</td><td>Shigellosis due to Shigella sonnei</td></tr><tr><th>23</th><td>0048</td><td>A038</td><td>0</td><td>0</td><td>0</td><td>0</td><td>0</td><td>Other shigellosis</td></tr><tr><th>24</th><td>0049</td><td>A039</td><td>0</td><td>0</td><td>0</td><td>0</td><td>0</td><td>Shigellosis, unspecified</td></tr><tr><th>25</th><td>0050</td><td>A050</td><td>0</td><td>0</td><td>0</td><td>0</td><td>0</td><td>Foodborne staphylococcal intoxication</td></tr><tr><th>26</th><td>0051</td><td>A051</td><td>0</td><td>0</td><td>0</td><td>0</td><td>0</td><td>Botulism food poisoning</td></tr><tr><th>27</th><td>0052</td><td>A052</td><td>0</td><td>0</td><td>0</td><td>0</td><td>0</td><td>Foodborne Clostridium perfringens [Clostridium welchii] intoxication</td></tr><tr><th>28</th><td>0053</td><td>A058</td><td>1</td><td>0</td><td>0</td><td>0</td><td>0</td><td>Other specified bacterial foodborne intoxications</td></tr><tr><th>29</th><td>0054</td><td>A053</td><td>0</td><td>0</td><td>0</td><td>0</td><td>0</td><td>Foodborne Vibrio parahaemolyticus intoxication</td></tr><tr><th>30</th><td>00581</td><td>A055</td><td>0</td><td>0</td><td>0</td><td>0</td><td>0</td><td>Foodborne Vibrio vulnificus intoxication</td></tr><tr><th>&vellip;</th><td>&vellip;</td><td>&vellip;</td><td>&vellip;</td><td>&vellip;</td><td>&vellip;</td><td>&vellip;</td><td>&vellip;</td><td>&vellip;</td></tr></tbody></table>"
      ],
      "text/latex": [
       "\\begin{tabular}{r|cccccccc}\n",
       "\t& source & target & approximate & no map & combination & scenario & choice list & descriptions\\\\\n",
       "\t\\hline\n",
       "\t& String & String & String & String & String & String & String & SubStri…\\\\\n",
       "\t\\hline\n",
       "\t1 & 0010 & A000 & 0 & 0 & 0 & 0 & 0 & Cholera due to Vibrio cholerae 01, biovar cholerae \\\\\n",
       "\t2 & 0011 & A001 & 0 & 0 & 0 & 0 & 0 & Cholera due to Vibrio cholerae 01, biovar eltor \\\\\n",
       "\t3 & 0019 & A009 & 0 & 0 & 0 & 0 & 0 & Cholera, unspecified \\\\\n",
       "\t4 & 0020 & A0100 & 1 & 0 & 0 & 0 & 0 & Typhoid fever, unspecified \\\\\n",
       "\t5 & 0021 & A011 & 0 & 0 & 0 & 0 & 0 & Paratyphoid fever A \\\\\n",
       "\t6 & 0022 & A012 & 0 & 0 & 0 & 0 & 0 & Paratyphoid fever B \\\\\n",
       "\t7 & 0023 & A013 & 0 & 0 & 0 & 0 & 0 & Paratyphoid fever C \\\\\n",
       "\t8 & 0029 & A014 & 0 & 0 & 0 & 0 & 0 & Paratyphoid fever, unspecified \\\\\n",
       "\t9 & 0030 & A020 & 0 & 0 & 0 & 0 & 0 & Salmonella enteritis \\\\\n",
       "\t10 & 0031 & A021 & 1 & 0 & 0 & 0 & 0 & Salmonella sepsis \\\\\n",
       "\t11 & 00320 & A0220 & 0 & 0 & 0 & 0 & 0 & Localized salmonella infection, unspecified \\\\\n",
       "\t12 & 00321 & A0221 & 0 & 0 & 0 & 0 & 0 & Salmonella meningitis \\\\\n",
       "\t13 & 00322 & A0222 & 0 & 0 & 0 & 0 & 0 & Salmonella pneumonia \\\\\n",
       "\t14 & 00323 & A0223 & 0 & 0 & 0 & 0 & 0 & Salmonella arthritis \\\\\n",
       "\t15 & 00324 & A0224 & 0 & 0 & 0 & 0 & 0 & Salmonella osteomyelitis \\\\\n",
       "\t16 & 00329 & A0229 & 1 & 0 & 0 & 0 & 0 & Salmonella with other localized infection \\\\\n",
       "\t17 & 0038 & A028 & 0 & 0 & 0 & 0 & 0 & Other specified salmonella infections \\\\\n",
       "\t18 & 0039 & A029 & 0 & 0 & 0 & 0 & 0 & Salmonella infection, unspecified \\\\\n",
       "\t19 & 0040 & A030 & 0 & 0 & 0 & 0 & 0 & Shigellosis due to Shigella dysenteriae \\\\\n",
       "\t20 & 0041 & A031 & 0 & 0 & 0 & 0 & 0 & Shigellosis due to Shigella flexneri \\\\\n",
       "\t21 & 0042 & A032 & 0 & 0 & 0 & 0 & 0 & Shigellosis due to Shigella boydii \\\\\n",
       "\t22 & 0043 & A033 & 0 & 0 & 0 & 0 & 0 & Shigellosis due to Shigella sonnei \\\\\n",
       "\t23 & 0048 & A038 & 0 & 0 & 0 & 0 & 0 & Other shigellosis \\\\\n",
       "\t24 & 0049 & A039 & 0 & 0 & 0 & 0 & 0 & Shigellosis, unspecified \\\\\n",
       "\t25 & 0050 & A050 & 0 & 0 & 0 & 0 & 0 & Foodborne staphylococcal intoxication \\\\\n",
       "\t26 & 0051 & A051 & 0 & 0 & 0 & 0 & 0 & Botulism food poisoning \\\\\n",
       "\t27 & 0052 & A052 & 0 & 0 & 0 & 0 & 0 & Foodborne Clostridium perfringens [Clostridium welchii] intoxication \\\\\n",
       "\t28 & 0053 & A058 & 1 & 0 & 0 & 0 & 0 & Other specified bacterial foodborne intoxications \\\\\n",
       "\t29 & 0054 & A053 & 0 & 0 & 0 & 0 & 0 & Foodborne Vibrio parahaemolyticus intoxication \\\\\n",
       "\t30 & 00581 & A055 & 0 & 0 & 0 & 0 & 0 & Foodborne Vibrio vulnificus intoxication \\\\\n",
       "\t$\\dots$ & $\\dots$ & $\\dots$ & $\\dots$ & $\\dots$ & $\\dots$ & $\\dots$ & $\\dots$ & $\\dots$ \\\\\n",
       "\\end{tabular}\n"
      ],
      "text/plain": [
       "24438×8 DataFrame. Omitted printing of 2 columns\n",
       "│ Row   │ source │ target │ approximate │ no map │ combination │ scenario │\n",
       "│       │ \u001b[90mString\u001b[39m │ \u001b[90mString\u001b[39m │ \u001b[90mString\u001b[39m      │ \u001b[90mString\u001b[39m │ \u001b[90mString\u001b[39m      │ \u001b[90mString\u001b[39m   │\n",
       "├───────┼────────┼────────┼─────────────┼────────┼─────────────┼──────────┤\n",
       "│ 1     │ 0010   │ A000   │ 0           │ 0      │ 0           │ 0        │\n",
       "│ 2     │ 0011   │ A001   │ 0           │ 0      │ 0           │ 0        │\n",
       "│ 3     │ 0019   │ A009   │ 0           │ 0      │ 0           │ 0        │\n",
       "│ 4     │ 0020   │ A0100  │ 1           │ 0      │ 0           │ 0        │\n",
       "│ 5     │ 0021   │ A011   │ 0           │ 0      │ 0           │ 0        │\n",
       "│ 6     │ 0022   │ A012   │ 0           │ 0      │ 0           │ 0        │\n",
       "│ 7     │ 0023   │ A013   │ 0           │ 0      │ 0           │ 0        │\n",
       "│ 8     │ 0029   │ A014   │ 0           │ 0      │ 0           │ 0        │\n",
       "│ 9     │ 0030   │ A020   │ 0           │ 0      │ 0           │ 0        │\n",
       "│ 10    │ 0031   │ A021   │ 1           │ 0      │ 0           │ 0        │\n",
       "⋮\n",
       "│ 24428 │ V9111  │ O30119 │ 1           │ 0      │ 0           │ 0        │\n",
       "│ 24429 │ V9112  │ O30129 │ 1           │ 0      │ 0           │ 0        │\n",
       "│ 24430 │ V9119  │ O30199 │ 1           │ 0      │ 0           │ 0        │\n",
       "│ 24431 │ V9120  │ O30209 │ 1           │ 0      │ 0           │ 0        │\n",
       "│ 24432 │ V9121  │ O30219 │ 1           │ 0      │ 0           │ 0        │\n",
       "│ 24433 │ V9122  │ O30229 │ 1           │ 0      │ 0           │ 0        │\n",
       "│ 24434 │ V9129  │ O30299 │ 1           │ 0      │ 0           │ 0        │\n",
       "│ 24435 │ V9190  │ O30809 │ 1           │ 0      │ 0           │ 0        │\n",
       "│ 24436 │ V9191  │ O30819 │ 1           │ 0      │ 0           │ 0        │\n",
       "│ 24437 │ V9192  │ O30829 │ 1           │ 0      │ 0           │ 0        │\n",
       "│ 24438 │ V9199  │ O30899 │ 1           │ 0      │ 0           │ 0        │"
      ]
     },
     "execution_count": 51,
     "metadata": {},
     "output_type": "execute_result"
    }
   ],
   "source": [
    "gems9_10"
   ]
  },
  {
   "cell_type": "code",
   "execution_count": 52,
   "metadata": {},
   "outputs": [],
   "source": [
    "desc10pcs = make_desc_cols(icd10_pcs_desc, \"icd10_pcs\");"
   ]
  },
  {
   "cell_type": "code",
   "execution_count": 53,
   "metadata": {},
   "outputs": [
    {
     "data": {
      "text/html": [
       "<table class=\"data-frame\"><thead><tr><th></th><th>code</th><th>descriptions</th></tr><tr><th></th><th>SubStri…</th><th>SubStri…</th></tr></thead><tbody><p>72,769 rows × 2 columns</p><tr><th>1</th><td>00001</td><td>001     0 Central Nervous System, Bypass                               Central Nervous System, Bypass</td></tr><tr><th>2</th><td>00002</td><td>0016070 1 Bypass Cereb Vent to Nasophar with Autol Sub, Open Approach  Bypass Cerebral Ventricle to Nasopharynx with Autologous Tissue Substitute, Open Approach</td></tr><tr><th>3</th><td>00003</td><td>0016071 1 Bypass Cereb Vent to Mastoid Sinus w Autol Sub, Open         Bypass Cerebral Ventricle to Mastoid Sinus with Autologous Tissue Substitute, Open Approach</td></tr><tr><th>4</th><td>00004</td><td>0016072 1 Bypass Cereb Vent to Atrium with Autol Sub, Open Approach    Bypass Cerebral Ventricle to Atrium with Autologous Tissue Substitute, Open Approach</td></tr><tr><th>5</th><td>00005</td><td>0016073 1 Bypass Cereb Vent to Blood Vess w Autol Sub, Open            Bypass Cerebral Ventricle to Blood Vessel with Autologous Tissue Substitute, Open Approach</td></tr><tr><th>6</th><td>00006</td><td>0016074 1 Bypass Cereb Vent to Pleural Cav w Autol Sub, Open           Bypass Cerebral Ventricle to Pleural Cavity with Autologous Tissue Substitute, Open Approach</td></tr><tr><th>7</th><td>00007</td><td>0016075 1 Bypass Cereb Vent to Intestine with Autol Sub, Open Approach Bypass Cerebral Ventricle to Intestine with Autologous Tissue Substitute, Open Approach</td></tr><tr><th>8</th><td>00008</td><td>0016076 1 Bypass Cereb Vent to Periton Cav w Autol Sub, Open           Bypass Cerebral Ventricle to Peritoneal Cavity with Autologous Tissue Substitute, Open Approach</td></tr><tr><th>9</th><td>00009</td><td>0016077 1 Bypass Cereb Vent to Urinary Tract w Autol Sub, Open         Bypass Cerebral Ventricle to Urinary Tract with Autologous Tissue Substitute, Open Approach</td></tr><tr><th>10</th><td>00010</td><td>0016078 1 Bypass Cereb Vent to Bone Mar with Autol Sub, Open Approach  Bypass Cerebral Ventricle to Bone Marrow with Autologous Tissue Substitute, Open Approach</td></tr><tr><th>11</th><td>00011</td><td>001607B 1 Bypass Cereb Vent to Cereb Cistern w Autol Sub, Open         Bypass Cerebral Ventricle to Cerebral Cisterns with Autologous Tissue Substitute, Open Approach</td></tr><tr><th>12</th><td>00012</td><td>00160J0 1 Bypass Cereb Vent to Nasophar with Synth Sub, Open Approach  Bypass Cerebral Ventricle to Nasopharynx with Synthetic Substitute, Open Approach</td></tr><tr><th>13</th><td>00013</td><td>00160J1 1 Bypass Cereb Vent to Mastoid Sinus w Synth Sub, Open         Bypass Cerebral Ventricle to Mastoid Sinus with Synthetic Substitute, Open Approach</td></tr><tr><th>14</th><td>00014</td><td>00160J2 1 Bypass Cereb Vent to Atrium with Synth Sub, Open Approach    Bypass Cerebral Ventricle to Atrium with Synthetic Substitute, Open Approach</td></tr><tr><th>15</th><td>00015</td><td>00160J3 1 Bypass Cereb Vent to Blood Vess w Synth Sub, Open            Bypass Cerebral Ventricle to Blood Vessel with Synthetic Substitute, Open Approach</td></tr><tr><th>16</th><td>00016</td><td>00160J4 1 Bypass Cereb Vent to Pleural Cav w Synth Sub, Open           Bypass Cerebral Ventricle to Pleural Cavity with Synthetic Substitute, Open Approach</td></tr><tr><th>17</th><td>00017</td><td>00160J5 1 Bypass Cereb Vent to Intestine with Synth Sub, Open Approach Bypass Cerebral Ventricle to Intestine with Synthetic Substitute, Open Approach</td></tr><tr><th>18</th><td>00018</td><td>00160J6 1 Bypass Cereb Vent to Periton Cav w Synth Sub, Open           Bypass Cerebral Ventricle to Peritoneal Cavity with Synthetic Substitute, Open Approach</td></tr><tr><th>19</th><td>00019</td><td>00160J7 1 Bypass Cereb Vent to Urinary Tract w Synth Sub, Open         Bypass Cerebral Ventricle to Urinary Tract with Synthetic Substitute, Open Approach</td></tr><tr><th>20</th><td>00020</td><td>00160J8 1 Bypass Cereb Vent to Bone Mar with Synth Sub, Open Approach  Bypass Cerebral Ventricle to Bone Marrow with Synthetic Substitute, Open Approach</td></tr><tr><th>21</th><td>00021</td><td>00160JB 1 Bypass Cereb Vent to Cereb Cistern w Synth Sub, Open         Bypass Cerebral Ventricle to Cerebral Cisterns with Synthetic Substitute, Open Approach</td></tr><tr><th>22</th><td>00022</td><td>00160K0 1 Bypass Cereb Vent to Nasophar with Nonaut Sub, Open Approach Bypass Cerebral Ventricle to Nasopharynx with Nonautologous Tissue Substitute, Open Approach</td></tr><tr><th>23</th><td>00023</td><td>00160K1 1 Bypass Cereb Vent to Mastoid Sinus w Nonaut Sub, Open        Bypass Cerebral Ventricle to Mastoid Sinus with Nonautologous Tissue Substitute, Open Approach</td></tr><tr><th>24</th><td>00024</td><td>00160K2 1 Bypass Cereb Vent to Atrium with Nonaut Sub, Open Approach   Bypass Cerebral Ventricle to Atrium with Nonautologous Tissue Substitute, Open Approach</td></tr><tr><th>25</th><td>00025</td><td>00160K3 1 Bypass Cereb Vent to Blood Vess w Nonaut Sub, Open           Bypass Cerebral Ventricle to Blood Vessel with Nonautologous Tissue Substitute, Open Approach</td></tr><tr><th>26</th><td>00026</td><td>00160K4 1 Bypass Cereb Vent to Pleural Cav w Nonaut Sub, Open          Bypass Cerebral Ventricle to Pleural Cavity with Nonautologous Tissue Substitute, Open Approach</td></tr><tr><th>27</th><td>00027</td><td>00160K5 1 Bypass Cereb Vent to Intestine w Nonaut Sub, Open            Bypass Cerebral Ventricle to Intestine with Nonautologous Tissue Substitute, Open Approach</td></tr><tr><th>28</th><td>00028</td><td>00160K6 1 Bypass Cereb Vent to Periton Cav w Nonaut Sub, Open          Bypass Cerebral Ventricle to Peritoneal Cavity with Nonautologous Tissue Substitute, Open Approach</td></tr><tr><th>29</th><td>00029</td><td>00160K7 1 Bypass Cereb Vent to Urinary Tract w Nonaut Sub, Open        Bypass Cerebral Ventricle to Urinary Tract with Nonautologous Tissue Substitute, Open Approach</td></tr><tr><th>30</th><td>00030</td><td>00160K8 1 Bypass Cereb Vent to Bone Mar with Nonaut Sub, Open Approach Bypass Cerebral Ventricle to Bone Marrow with Nonautologous Tissue Substitute, Open Approach</td></tr><tr><th>&vellip;</th><td>&vellip;</td><td>&vellip;</td></tr></tbody></table>"
      ],
      "text/latex": [
       "\\begin{tabular}{r|cc}\n",
       "\t& code & descriptions\\\\\n",
       "\t\\hline\n",
       "\t& SubStri… & SubStri…\\\\\n",
       "\t\\hline\n",
       "\t1 & 00001 & 001     0 Central Nervous System, Bypass                               Central Nervous System, Bypass \\\\\n",
       "\t2 & 00002 & 0016070 1 Bypass Cereb Vent to Nasophar with Autol Sub, Open Approach  Bypass Cerebral Ventricle to Nasopharynx with Autologous Tissue Substitute, Open Approach \\\\\n",
       "\t3 & 00003 & 0016071 1 Bypass Cereb Vent to Mastoid Sinus w Autol Sub, Open         Bypass Cerebral Ventricle to Mastoid Sinus with Autologous Tissue Substitute, Open Approach \\\\\n",
       "\t4 & 00004 & 0016072 1 Bypass Cereb Vent to Atrium with Autol Sub, Open Approach    Bypass Cerebral Ventricle to Atrium with Autologous Tissue Substitute, Open Approach \\\\\n",
       "\t5 & 00005 & 0016073 1 Bypass Cereb Vent to Blood Vess w Autol Sub, Open            Bypass Cerebral Ventricle to Blood Vessel with Autologous Tissue Substitute, Open Approach \\\\\n",
       "\t6 & 00006 & 0016074 1 Bypass Cereb Vent to Pleural Cav w Autol Sub, Open           Bypass Cerebral Ventricle to Pleural Cavity with Autologous Tissue Substitute, Open Approach \\\\\n",
       "\t7 & 00007 & 0016075 1 Bypass Cereb Vent to Intestine with Autol Sub, Open Approach Bypass Cerebral Ventricle to Intestine with Autologous Tissue Substitute, Open Approach \\\\\n",
       "\t8 & 00008 & 0016076 1 Bypass Cereb Vent to Periton Cav w Autol Sub, Open           Bypass Cerebral Ventricle to Peritoneal Cavity with Autologous Tissue Substitute, Open Approach \\\\\n",
       "\t9 & 00009 & 0016077 1 Bypass Cereb Vent to Urinary Tract w Autol Sub, Open         Bypass Cerebral Ventricle to Urinary Tract with Autologous Tissue Substitute, Open Approach \\\\\n",
       "\t10 & 00010 & 0016078 1 Bypass Cereb Vent to Bone Mar with Autol Sub, Open Approach  Bypass Cerebral Ventricle to Bone Marrow with Autologous Tissue Substitute, Open Approach \\\\\n",
       "\t11 & 00011 & 001607B 1 Bypass Cereb Vent to Cereb Cistern w Autol Sub, Open         Bypass Cerebral Ventricle to Cerebral Cisterns with Autologous Tissue Substitute, Open Approach \\\\\n",
       "\t12 & 00012 & 00160J0 1 Bypass Cereb Vent to Nasophar with Synth Sub, Open Approach  Bypass Cerebral Ventricle to Nasopharynx with Synthetic Substitute, Open Approach \\\\\n",
       "\t13 & 00013 & 00160J1 1 Bypass Cereb Vent to Mastoid Sinus w Synth Sub, Open         Bypass Cerebral Ventricle to Mastoid Sinus with Synthetic Substitute, Open Approach \\\\\n",
       "\t14 & 00014 & 00160J2 1 Bypass Cereb Vent to Atrium with Synth Sub, Open Approach    Bypass Cerebral Ventricle to Atrium with Synthetic Substitute, Open Approach \\\\\n",
       "\t15 & 00015 & 00160J3 1 Bypass Cereb Vent to Blood Vess w Synth Sub, Open            Bypass Cerebral Ventricle to Blood Vessel with Synthetic Substitute, Open Approach \\\\\n",
       "\t16 & 00016 & 00160J4 1 Bypass Cereb Vent to Pleural Cav w Synth Sub, Open           Bypass Cerebral Ventricle to Pleural Cavity with Synthetic Substitute, Open Approach \\\\\n",
       "\t17 & 00017 & 00160J5 1 Bypass Cereb Vent to Intestine with Synth Sub, Open Approach Bypass Cerebral Ventricle to Intestine with Synthetic Substitute, Open Approach \\\\\n",
       "\t18 & 00018 & 00160J6 1 Bypass Cereb Vent to Periton Cav w Synth Sub, Open           Bypass Cerebral Ventricle to Peritoneal Cavity with Synthetic Substitute, Open Approach \\\\\n",
       "\t19 & 00019 & 00160J7 1 Bypass Cereb Vent to Urinary Tract w Synth Sub, Open         Bypass Cerebral Ventricle to Urinary Tract with Synthetic Substitute, Open Approach \\\\\n",
       "\t20 & 00020 & 00160J8 1 Bypass Cereb Vent to Bone Mar with Synth Sub, Open Approach  Bypass Cerebral Ventricle to Bone Marrow with Synthetic Substitute, Open Approach \\\\\n",
       "\t21 & 00021 & 00160JB 1 Bypass Cereb Vent to Cereb Cistern w Synth Sub, Open         Bypass Cerebral Ventricle to Cerebral Cisterns with Synthetic Substitute, Open Approach \\\\\n",
       "\t22 & 00022 & 00160K0 1 Bypass Cereb Vent to Nasophar with Nonaut Sub, Open Approach Bypass Cerebral Ventricle to Nasopharynx with Nonautologous Tissue Substitute, Open Approach \\\\\n",
       "\t23 & 00023 & 00160K1 1 Bypass Cereb Vent to Mastoid Sinus w Nonaut Sub, Open        Bypass Cerebral Ventricle to Mastoid Sinus with Nonautologous Tissue Substitute, Open Approach \\\\\n",
       "\t24 & 00024 & 00160K2 1 Bypass Cereb Vent to Atrium with Nonaut Sub, Open Approach   Bypass Cerebral Ventricle to Atrium with Nonautologous Tissue Substitute, Open Approach \\\\\n",
       "\t25 & 00025 & 00160K3 1 Bypass Cereb Vent to Blood Vess w Nonaut Sub, Open           Bypass Cerebral Ventricle to Blood Vessel with Nonautologous Tissue Substitute, Open Approach \\\\\n",
       "\t26 & 00026 & 00160K4 1 Bypass Cereb Vent to Pleural Cav w Nonaut Sub, Open          Bypass Cerebral Ventricle to Pleural Cavity with Nonautologous Tissue Substitute, Open Approach \\\\\n",
       "\t27 & 00027 & 00160K5 1 Bypass Cereb Vent to Intestine w Nonaut Sub, Open            Bypass Cerebral Ventricle to Intestine with Nonautologous Tissue Substitute, Open Approach \\\\\n",
       "\t28 & 00028 & 00160K6 1 Bypass Cereb Vent to Periton Cav w Nonaut Sub, Open          Bypass Cerebral Ventricle to Peritoneal Cavity with Nonautologous Tissue Substitute, Open Approach \\\\\n",
       "\t29 & 00029 & 00160K7 1 Bypass Cereb Vent to Urinary Tract w Nonaut Sub, Open        Bypass Cerebral Ventricle to Urinary Tract with Nonautologous Tissue Substitute, Open Approach \\\\\n",
       "\t30 & 00030 & 00160K8 1 Bypass Cereb Vent to Bone Mar with Nonaut Sub, Open Approach Bypass Cerebral Ventricle to Bone Marrow with Nonautologous Tissue Substitute, Open Approach \\\\\n",
       "\t$\\dots$ & $\\dots$ & $\\dots$ \\\\\n",
       "\\end{tabular}\n"
      ],
      "text/plain": [
       "72769×2 DataFrame. Omitted printing of 1 columns\n",
       "│ Row   │ code     │\n",
       "│       │ \u001b[90mSubStri…\u001b[39m │\n",
       "├───────┼──────────┤\n",
       "│ 1     │ 00001    │\n",
       "│ 2     │ 00002    │\n",
       "│ 3     │ 00003    │\n",
       "│ 4     │ 00004    │\n",
       "│ 5     │ 00005    │\n",
       "│ 6     │ 00006    │\n",
       "│ 7     │ 00007    │\n",
       "│ 8     │ 00008    │\n",
       "│ 9     │ 00009    │\n",
       "│ 10    │ 00010    │\n",
       "⋮\n",
       "│ 72759 │ 72759    │\n",
       "│ 72760 │ 72760    │\n",
       "│ 72761 │ 72761    │\n",
       "│ 72762 │ 72762    │\n",
       "│ 72763 │ 72763    │\n",
       "│ 72764 │ 72764    │\n",
       "│ 72765 │ 72765    │\n",
       "│ 72766 │ 72766    │\n",
       "│ 72767 │ 72767    │\n",
       "│ 72768 │ 72768    │\n",
       "│ 72769 │ 72769    │"
      ]
     },
     "execution_count": 53,
     "metadata": {},
     "output_type": "execute_result"
    }
   ],
   "source": [
    "desc10pcs"
   ]
  },
  {
   "cell_type": "code",
   "execution_count": 71,
   "metadata": {},
   "outputs": [],
   "source": [
    "gems9, gems10, desc9, desc10, icd9_pcs, icd10_pcs, icd10_pcs_desc = load_tables();\n",
    "\n",
    "gems9 = make_flag_cols(gems9);\n",
    "gems10 = make_flag_cols(gems10);\n",
    "desc9 =  make_desc_cols(desc9, \"icd9\");\n",
    "desc10 =  make_desc_cols(desc10, \"icd10\");\n",
    "gems9_10 = join_icd_descriptions(gems9,desc10);\n",
    "gems10_9 = join_icd_descriptions(gems10,desc9);\n",
    "\n",
    "icd9_pcs = make_flag_cols(icd9_pcs);\n",
    "icd10_pcs = make_flag_cols(icd10_pcs);\n",
    "desc10pcs = make_desc_cols(icd10_pcs_desc, \"icd10_pcs\");  "
   ]
  },
  {
   "cell_type": "code",
   "execution_count": 73,
   "metadata": {},
   "outputs": [],
   "source": [
    "gems_icd10_pcs = join_icd_descriptions(icd10_pcs,desc10pcs);"
   ]
  },
  {
   "cell_type": "code",
   "execution_count": null,
   "metadata": {},
   "outputs": [],
   "source": []
  },
  {
   "cell_type": "code",
   "execution_count": null,
   "metadata": {},
   "outputs": [],
   "source": []
  },
  {
   "cell_type": "code",
   "execution_count": null,
   "metadata": {},
   "outputs": [],
   "source": []
  },
  {
   "cell_type": "code",
   "execution_count": null,
   "metadata": {},
   "outputs": [],
   "source": []
  },
  {
   "cell_type": "code",
   "execution_count": 123,
   "metadata": {},
   "outputs": [
    {
     "data": {
      "text/plain": [
       "join_icd_descriptions (generic function with 2 methods)"
      ]
     },
     "execution_count": 123,
     "metadata": {},
     "output_type": "execute_result"
    }
   ],
   "source": [
    "using DataFrames\n",
    "using CSV\n",
    "\n",
    "function load_tables()\n",
    "\n",
    "    cols = [\"source\", \"target\", \"flags\"]\n",
    "    \n",
    "    df_icd9 = CSV.File(\"2018_I9gem.txt\", delim = ' ',\n",
    "        header = false, type=String, ignorerepeated=true) |> DataFrame\n",
    "    rename!(df_icd9, cols)\n",
    "    \n",
    "    df_icd10 = CSV.File(\"2018_I10gem.txt\", delim = ' ', header = false, type=String, ignorerepeated=true) |> DataFrame\n",
    "    rename!(df_icd10, cols)\n",
    "    \n",
    "    df_icd9_desc = CSV.File(\"CMS32_DESC_LONG_DX.txt\", delim = '\\t', header = false, type=String) |> DataFrame\n",
    "    df_icd10_desc = CSV.File(\"icd10cm_codes_2018.txt\", delim = '\\t', header = false, type=String) |> DataFrame\n",
    "    \n",
    "    df_icd9_pcs = CSV.File(\"gem_i9pcs.txt\", delim = ' ', header = false, type=String, ignorerepeated=true) |> DataFrame\n",
    "    rename!(df_icd9_pcs, cols)\n",
    "    \n",
    "    df_icd10_pcs = CSV.File(\"gem_pcsi9.txt\", delim = ' ', header = false, type=String, ignorerepeated=true) |> DataFrame\n",
    "    rename!(df_icd10_pcs, cols)\n",
    "    \n",
    "    df_icd10_pcs_desc = CSV.File(\"icd10pcs_order_2014.txt\", delim = '\\t', header = false, type=String) |> DataFrame \n",
    "\n",
    "    return df_icd9, df_icd10, df_icd9_desc, df_icd10_desc, df_icd9_pcs, df_icd10_pcs, df_icd10_pcs_desc    \n",
    "end\n",
    "\n",
    "\n",
    "\n",
    "function make_flag_cols(df_in)\n",
    "    \n",
    "    df = copy(df_in)\n",
    "    \n",
    "    df[:flags] = map(x -> lpad(split(string(x), \" \")[1], 5, \"0\"), df[:flags])\n",
    "    \n",
    "    flag_types = [ \"approximate\", \"no map\", \"combination\", \"scenario\", \"choice list\"]\n",
    "\n",
    "    for (index, flag) in enumerate(flag_types)\n",
    "        df[Symbol(flag_types[index])] = map(x -> string(x[index]), df[:flags])\n",
    "    end\n",
    "\n",
    "    select!(df, Not(:flags)) \n",
    "\n",
    "    return df\n",
    "end\n",
    "\n",
    "\n",
    "function make_desc_cols(df_in, code::String)\n",
    "    \n",
    "    df = copy(df_in)\n",
    "    \n",
    "    df[:code] = map(x -> split(string(x), \" \")[1], df[:Column1])\n",
    "    df[:descriptions] = map(x -> lstrip(join(split(string(x), \" \")[2:end], \" \")), df[:Column1])\n",
    "    \n",
    "    select!(df, Not(:Column1))\n",
    "    \n",
    "    return df\n",
    "end\n",
    "\n",
    "\n",
    "function join_icd_descriptions(df_gems, df_desc_target, df_source_description)\n",
    "\n",
    "    df = join(df_gems, df_desc_target,\n",
    "        on = :target => :code,\n",
    "        kind = :inner)\n",
    "    rename!(df, Dict(:descriptions => :target_descriptions))\n",
    "\n",
    "    df = join(df, df_source_description,\n",
    "        on = :source => :code,\n",
    "        kind = :left)\n",
    "    rename!(df, Dict(:descriptions => :source_descriptions))\n",
    "    \n",
    "    return df\n",
    "end"
   ]
  },
  {
   "cell_type": "code",
   "execution_count": 130,
   "metadata": {},
   "outputs": [],
   "source": [
    "cd(\"../data/\")\n",
    "\n",
    "gems9, gems10, desc9, desc10, icd9_pcs, icd10_pcs, icd10_pcs_desc = load_tables();\n"
   ]
  },
  {
   "cell_type": "code",
   "execution_count": 131,
   "metadata": {},
   "outputs": [],
   "source": [
    "gems9 = make_flag_cols(gems9);\n",
    "gems10 = make_flag_cols(gems10);\n",
    "desc9 =  make_desc_cols(desc9, \"icd9\");\n",
    "desc10 =  make_desc_cols(desc10, \"icd10\");"
   ]
  },
  {
   "cell_type": "code",
   "execution_count": 132,
   "metadata": {},
   "outputs": [],
   "source": [
    "gems9_10 = join_icd_descriptions(gems9,desc10, desc9);\n",
    "gems10_9 = join_icd_descriptions(gems10,desc9,desc10);\n"
   ]
  },
  {
   "cell_type": "code",
   "execution_count": 135,
   "metadata": {},
   "outputs": [
    {
     "data": {
      "text/html": [
       "<table class=\"data-frame\"><thead><tr><th></th><th>target_descriptions</th><th>source_descriptions</th></tr><tr><th></th><th>SubStri…</th><th>SubStri…?</th></tr></thead><tbody><p>80,861 rows × 2 columns</p><tr><th>1</th><td>Cholera due to vibrio cholerae</td><td>Cholera due to Vibrio cholerae 01, biovar cholerae</td></tr><tr><th>2</th><td>Cholera due to vibrio cholerae el tor</td><td>Cholera due to Vibrio cholerae 01, biovar eltor</td></tr><tr><th>3</th><td>Cholera, unspecified</td><td>Cholera, unspecified</td></tr><tr><th>4</th><td>Typhoid fever</td><td>Typhoid fever, unspecified</td></tr><tr><th>5</th><td>Typhoid fever</td><td>Typhoid meningitis</td></tr><tr><th>6</th><td>Typhoid fever</td><td>Typhoid fever with heart involvement</td></tr><tr><th>7</th><td>Typhoid fever</td><td>Typhoid pneumonia</td></tr><tr><th>8</th><td>Typhoid fever</td><td>Typhoid arthritis</td></tr><tr><th>9</th><td>Typhoid fever</td><td>Typhoid osteomyelitis</td></tr><tr><th>10</th><td>Typhoid fever</td><td>Typhoid fever with other complications</td></tr><tr><th>11</th><td>Paratyphoid fever A</td><td>Paratyphoid fever A</td></tr><tr><th>12</th><td>Paratyphoid fever B</td><td>Paratyphoid fever B</td></tr><tr><th>13</th><td>Paratyphoid fever C</td><td>Paratyphoid fever C</td></tr><tr><th>14</th><td>Paratyphoid fever, unspecified</td><td>Paratyphoid fever, unspecified</td></tr><tr><th>15</th><td>Salmonella gastroenteritis</td><td>Salmonella enteritis</td></tr><tr><th>16</th><td>Salmonella septicemia</td><td>Salmonella sepsis</td></tr><tr><th>17</th><td>Sepsis</td><td>Salmonella sepsis</td></tr><tr><th>18</th><td>Localized salmonella infection, unspecified</td><td>Localized salmonella infection, unspecified</td></tr><tr><th>19</th><td>Salmonella meningitis</td><td>Salmonella meningitis</td></tr><tr><th>20</th><td>Salmonella pneumonia</td><td>Salmonella pneumonia</td></tr><tr><th>21</th><td>Salmonella arthritis</td><td>Salmonella arthritis</td></tr><tr><th>22</th><td>Salmonella osteomyelitis</td><td>Salmonella osteomyelitis</td></tr><tr><th>23</th><td>Other localized salmonella infections</td><td>Salmonella pyelonephritis</td></tr><tr><th>24</th><td>Other localized salmonella infections</td><td>Salmonella with other localized infection</td></tr><tr><th>25</th><td>Other specified salmonella infections</td><td>Other specified salmonella infections</td></tr><tr><th>26</th><td>Salmonella infection, unspecified</td><td>Salmonella infection, unspecified</td></tr><tr><th>27</th><td>Shigella dysenteriae</td><td>Shigellosis due to Shigella dysenteriae</td></tr><tr><th>28</th><td>Shigella flexneri</td><td>Shigellosis due to Shigella flexneri</td></tr><tr><th>29</th><td>Shigella boydii</td><td>Shigellosis due to Shigella boydii</td></tr><tr><th>30</th><td>Shigella sonnei</td><td>Shigellosis due to Shigella sonnei</td></tr><tr><th>&vellip;</th><td>&vellip;</td><td>&vellip;</td></tr></tbody></table>"
      ],
      "text/latex": [
       "\\begin{tabular}{r|cc}\n",
       "\t& target\\_descriptions & source\\_descriptions\\\\\n",
       "\t\\hline\n",
       "\t& SubStri… & SubStri…?\\\\\n",
       "\t\\hline\n",
       "\t1 & Cholera due to vibrio cholerae & Cholera due to Vibrio cholerae 01, biovar cholerae \\\\\n",
       "\t2 & Cholera due to vibrio cholerae el tor & Cholera due to Vibrio cholerae 01, biovar eltor \\\\\n",
       "\t3 & Cholera, unspecified & Cholera, unspecified \\\\\n",
       "\t4 & Typhoid fever & Typhoid fever, unspecified \\\\\n",
       "\t5 & Typhoid fever & Typhoid meningitis \\\\\n",
       "\t6 & Typhoid fever & Typhoid fever with heart involvement \\\\\n",
       "\t7 & Typhoid fever & Typhoid pneumonia \\\\\n",
       "\t8 & Typhoid fever & Typhoid arthritis \\\\\n",
       "\t9 & Typhoid fever & Typhoid osteomyelitis \\\\\n",
       "\t10 & Typhoid fever & Typhoid fever with other complications \\\\\n",
       "\t11 & Paratyphoid fever A & Paratyphoid fever A \\\\\n",
       "\t12 & Paratyphoid fever B & Paratyphoid fever B \\\\\n",
       "\t13 & Paratyphoid fever C & Paratyphoid fever C \\\\\n",
       "\t14 & Paratyphoid fever, unspecified & Paratyphoid fever, unspecified \\\\\n",
       "\t15 & Salmonella gastroenteritis & Salmonella enteritis \\\\\n",
       "\t16 & Salmonella septicemia & Salmonella sepsis \\\\\n",
       "\t17 & Sepsis & Salmonella sepsis \\\\\n",
       "\t18 & Localized salmonella infection, unspecified & Localized salmonella infection, unspecified \\\\\n",
       "\t19 & Salmonella meningitis & Salmonella meningitis \\\\\n",
       "\t20 & Salmonella pneumonia & Salmonella pneumonia \\\\\n",
       "\t21 & Salmonella arthritis & Salmonella arthritis \\\\\n",
       "\t22 & Salmonella osteomyelitis & Salmonella osteomyelitis \\\\\n",
       "\t23 & Other localized salmonella infections & Salmonella pyelonephritis \\\\\n",
       "\t24 & Other localized salmonella infections & Salmonella with other localized infection \\\\\n",
       "\t25 & Other specified salmonella infections & Other specified salmonella infections \\\\\n",
       "\t26 & Salmonella infection, unspecified & Salmonella infection, unspecified \\\\\n",
       "\t27 & Shigella dysenteriae & Shigellosis due to Shigella dysenteriae \\\\\n",
       "\t28 & Shigella flexneri & Shigellosis due to Shigella flexneri \\\\\n",
       "\t29 & Shigella boydii & Shigellosis due to Shigella boydii \\\\\n",
       "\t30 & Shigella sonnei & Shigellosis due to Shigella sonnei \\\\\n",
       "\t$\\dots$ & $\\dots$ & $\\dots$ \\\\\n",
       "\\end{tabular}\n"
      ],
      "text/plain": [
       "80861×2 DataFrame. Omitted printing of 1 columns\n",
       "│ Row   │ target_descriptions                                             │\n",
       "│       │ \u001b[90mSubString{String}\u001b[39m                                               │\n",
       "├───────┼─────────────────────────────────────────────────────────────────┤\n",
       "│ 1     │ Cholera due to vibrio cholerae                                  │\n",
       "│ 2     │ Cholera due to vibrio cholerae el tor                           │\n",
       "│ 3     │ Cholera, unspecified                                            │\n",
       "│ 4     │ Typhoid fever                                                   │\n",
       "│ 5     │ Typhoid fever                                                   │\n",
       "│ 6     │ Typhoid fever                                                   │\n",
       "│ 7     │ Typhoid fever                                                   │\n",
       "│ 8     │ Typhoid fever                                                   │\n",
       "│ 9     │ Typhoid fever                                                   │\n",
       "│ 10    │ Typhoid fever                                                   │\n",
       "⋮\n",
       "│ 80851 │ Personal history of undergoing in utero procedure while a fetus │\n",
       "│ 80852 │ Other postprocedural status                                     │\n",
       "│ 80853 │ Other postprocedural status                                     │\n",
       "│ 80854 │ Dependence on aspirator                                         │\n",
       "│ 80855 │ Dependence on respirator, status                                │\n",
       "│ 80856 │ Encounter for respirator dependence during power failure        │\n",
       "│ 80857 │ Renal dialysis status                                           │\n",
       "│ 80858 │ Wheelchair dependence                                           │\n",
       "│ 80859 │ Other dependence on machines, supplemental oxygen               │\n",
       "│ 80860 │ Dependence on other enabling machines                           │\n",
       "│ 80861 │ Unspecified machine dependence                                  │"
      ]
     },
     "execution_count": 135,
     "metadata": {},
     "output_type": "execute_result"
    }
   ],
   "source": [
    "gems10_9[:, [:target_descriptions, :source_descriptions]]"
   ]
  },
  {
   "cell_type": "code",
   "execution_count": 92,
   "metadata": {},
   "outputs": [],
   "source": [
    "icd9_pcs = make_flag_cols(icd9_pcs);\n",
    "icd10_pcs = make_flag_cols(icd10_pcs);"
   ]
  },
  {
   "cell_type": "code",
   "execution_count": 93,
   "metadata": {},
   "outputs": [],
   "source": [
    "desc10pcs = make_desc_cols(icd10_pcs_desc, \"icd10_pcs\");  "
   ]
  },
  {
   "cell_type": "code",
   "execution_count": 94,
   "metadata": {},
   "outputs": [
    {
     "ename": "LoadError",
     "evalue": "SystemError: opening file \"processed/gems9_10.csv\": No such file or directory",
     "output_type": "error",
     "traceback": [
      "SystemError: opening file \"processed/gems9_10.csv\": No such file or directory",
      "",
      "Stacktrace:",
      " [1] systemerror(::String, ::Int32; extrainfo::Nothing) at ./error.jl:168",
      " [2] #systemerror#48 at ./error.jl:167 [inlined]",
      " [3] systemerror at ./error.jl:167 [inlined]",
      " [4] open(::String; lock::Bool, read::Nothing, write::Nothing, create::Nothing, truncate::Bool, append::Nothing) at ./iostream.jl:284",
      " [5] open(::String, ::String; lock::Bool) at ./iostream.jl:346",
      " [6] open(::String, ::String) at ./iostream.jl:346",
      " [7] open(::CSV.var\"#73#74\"{CSV.var\"#66#67\"{Bool,Bool,Tables.Schema{(:source, :target, :approximate, Symbol(\"no map\"), :combination, :scenario, Symbol(\"choice list\"), :descriptions),Tuple{String,String,String,String,String,String,String,SubString{String}}},DataFrames.DataFrameRows{DataFrame,DataFrames.Index},CSV.Options{UInt8,UInt8,Nothing,Tuple{},CSV.var\"#61#63\"},NTuple{8,Symbol},Int64,Int64,Array{UInt8,1}}}, ::String, ::Vararg{String,N} where N; kwargs::Base.Iterators.Pairs{Union{},Union{},Tuple{},NamedTuple{(),Tuple{}}}) at ./io.jl:323",
      " [8] open at ./io.jl:323 [inlined]",
      " [9] with at /Users/patricklong/.julia/packages/CSV/MKemC/src/write.jl:246 [inlined]",
      " [10] #write#65 at /Users/patricklong/.julia/packages/CSV/MKemC/src/write.jl:174 [inlined]",
      " [11] write(::String, ::DataFrame; delim::Char, quotechar::Char, openquotechar::Nothing, closequotechar::Nothing, escapechar::Char, newline::Char, decimal::Char, dateformat::Nothing, quotestrings::Bool, missingstring::String, transform::CSV.var\"#61#63\", bom::Bool, append::Bool, writeheader::Nothing, kwargs::Base.Iterators.Pairs{Union{},Union{},Tuple{},NamedTuple{(),Tuple{}}}) at /Users/patricklong/.julia/packages/CSV/MKemC/src/write.jl:162",
      " [12] write(::String, ::DataFrame) at /Users/patricklong/.julia/packages/CSV/MKemC/src/write.jl:149",
      " [13] top-level scope at In[94]:1",
      " [14] include_string(::Function, ::Module, ::String, ::String) at ./loading.jl:1091"
     ]
    }
   ],
   "source": [
    "CSV.write(\"processed/gems9_10.csv\", gems9_10)\n",
    "CSV.write(\"processed/gems10_9.csv\", gems10_9)"
   ]
  },
  {
   "cell_type": "code",
   "execution_count": null,
   "metadata": {},
   "outputs": [],
   "source": [
    "\n",
    "CSV.write(\"processed/gems_pcs_desc.csv\", desc10pcs)\n",
    "CSV.write(\"processed/gems_icd9_pcs.csv\", icd9_pcs)\n",
    "CSV.write(\"processed/gems_icd10_pcs.csv\", icd10_pcs)"
   ]
  }
 ],
 "metadata": {
  "kernelspec": {
   "display_name": "Julia 1.5.1",
   "language": "julia",
   "name": "julia-1.5"
  },
  "language_info": {
   "file_extension": ".jl",
   "mimetype": "application/julia",
   "name": "julia",
   "version": "1.5.1"
  }
 },
 "nbformat": 4,
 "nbformat_minor": 4
}
